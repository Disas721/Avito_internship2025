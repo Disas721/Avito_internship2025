{
  "cells": [
    {
      "cell_type": "markdown",
      "metadata": {},
      "source": [
        "Совместимая версия Python 3.12.11\n",
        "\n",
        "Все запускалось и обучалось на GPU в Google Colab (T4)"
      ]
    },
    {
      "cell_type": "code",
      "execution_count": null,
      "metadata": {
        "colab": {
          "base_uri": "https://localhost:8080/"
        },
        "id": "HKazF3ItJtmW",
        "outputId": "75636a98-c7cd-4be3-964a-6bc47c79cf35"
      },
      "outputs": [
        {
          "name": "stdout",
          "output_type": "stream",
          "text": [
            "epoch 1: train=0.5626  val=0.2910\n",
            "  saved weights/char_tagger_gpu.pt\n",
            "epoch 2: train=0.2778  val=0.2113\n",
            "  saved weights/char_tagger_gpu.pt\n",
            "epoch 3: train=0.2243  val=0.1812\n",
            "  saved weights/char_tagger_gpu.pt\n",
            "epoch 4: train=0.1974  val=0.1620\n",
            "  saved weights/char_tagger_gpu.pt\n",
            "epoch 5: train=0.1804  val=0.1496\n",
            "  saved weights/char_tagger_gpu.pt\n",
            "epoch 6: train=0.1685  val=0.1422\n",
            "  saved weights/char_tagger_gpu.pt\n",
            "epoch 7: train=0.1598  val=0.1352\n",
            "  saved weights/char_tagger_gpu.pt\n",
            "epoch 8: train=0.1528  val=0.1299\n",
            "  saved weights/char_tagger_gpu.pt\n",
            "Traceback (most recent call last):\n",
            "  File \"/content/train_char_tagger.py\", line 122, in <module>\n",
            "    main()\n",
            "  File \"/content/train_char_tagger.py\", line 101, in main\n",
            "    tot += loss.item(); n += 1\n",
            "           ^^^^^^^^^^^\n",
            "KeyboardInterrupt\n"
          ]
        }
      ],
      "source": [
        "### Запуск обучения\n",
        "!python3 train_char_tagger.py --corpus avito_clean.parquet --epochs 10 --bs 256 --lr 3e-4 --max_len 256 --save weights/char_tagger_gpu.pt\n"
      ]
    },
    {
      "cell_type": "code",
      "execution_count": null,
      "metadata": {
        "id": "bExdbIOv1jja"
      },
      "outputs": [],
      "source": [
        "### Подбор трешхолда по f1-score\n",
        "!python eval_f1.py --corpus /content/avito_f1_val.parquet --weights weights/char_tagger_gpu.pt \\\n",
        "  --max_samples 20000 --grid 0.70:0.90:0.01"
      ]
    },
    {
      "cell_type": "code",
      "execution_count": null,
      "metadata": {
        "colab": {
          "base_uri": "https://localhost:8080/"
        },
        "id": "Qt8er22J5J2P",
        "outputId": "1965634d-8373-4643-e981-002f2aa478a8"
      },
      "outputs": [
        {
          "name": "stdout",
          "output_type": "stream",
          "text": [
            "Saved to submission.csv\n"
          ]
        }
      ],
      "source": [
        "### Инференс по предоставленному в контесте файлу\n",
        "!python infer.py \\\n",
        "  --input task_data.txt \\\n",
        "  --output submission.csv \\\n",
        "  --weights weights/char_tagger_gpu.pt \\\n",
        "  --thr 0.7"
      ]
    }
  ],
  "metadata": {
    "accelerator": "GPU",
    "colab": {
      "gpuType": "T4",
      "provenance": []
    },
    "kernelspec": {
      "display_name": "Python 3",
      "name": "python3"
    },
    "language_info": {
      "name": "python"
    }
  },
  "nbformat": 4,
  "nbformat_minor": 0
}
